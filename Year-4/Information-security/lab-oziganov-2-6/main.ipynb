{
 "cells": [
  {
   "attachments": {},
   "cell_type": "markdown",
   "metadata": {},
   "source": [
    "Исходные данные (Вариант 12)"
   ]
  },
  {
   "cell_type": "code",
   "execution_count": 2,
   "metadata": {},
   "outputs": [],
   "source": [
    "# y^2 = x^3 - x + 1\n",
    "\n",
    "mod = 751\n",
    "G = (0, 1)\n",
    "Ep = (-1, 1)\n",
    "\n",
    "Cms = [((425, 663), (651, 191)), ((188, 93), (177, 562)),\n",
    "((286, 136), (603, 562)), ((440, 539), (588, 707)),\n",
    "((72, 254), (269, 187)), ((56, 419), (49, 568)),\n",
    "((16, 416), (426, 662)), ((425, 663), (557, 28)),\n",
    "((188, 93), (149, 97)), ((179, 275), (711, 341))]\n",
    "\n",
    "ns = [25] * len(Cms)"
   ]
  },
  {
   "cell_type": "code",
   "execution_count": 14,
   "metadata": {},
   "outputs": [],
   "source": [
    "alphabet = {\n",
    "    'A' : (66, 552),\n",
    "    'п' : (240, 442),\n",
    "    'р' : (243, 87),\n",
    "    'о' : (240, 309),\n",
    "    'к' : (237, 297),\n",
    "    'у' : (247, 485),\n",
    "    'т' : (247, 266),\n",
    "    'а' : (228, 271),\n",
    "    'м' : (238, 175),\n",
    "    'е' : (234, 587),\n",
    "    'б' : (228, 480),\n",
    "    'л' : (237, 454),\n",
    "    'и' : (236, 39),\n",
    "    'з' : (235, 732),\n",
    "}"
   ]
  },
  {
   "cell_type": "code",
   "execution_count": 4,
   "metadata": {},
   "outputs": [],
   "source": [
    "import math"
   ]
  },
  {
   "cell_type": "code",
   "execution_count": 5,
   "metadata": {},
   "outputs": [],
   "source": [
    "# p - first point\n",
    "# q - second point\n",
    "# a - Ep(a, b)\n",
    "def points_eq(p, q):\n",
    "    return p[0] == q[0] and p[1] == q[1]\n",
    "\n",
    "def get_lambda(p, q, a=Ep[0]):\n",
    "    x1, y1 = p\n",
    "    x2, y2 = q\n",
    "    if points_eq(p, q):\n",
    "        return ((3 * x1 ** 2 + a),(2 * y1)) # пара числитель и знаменатель\n",
    "    else:\n",
    "        return ((y2 - y1), (x2 - x1)) # пара числитель и знаменатель"
   ]
  },
  {
   "attachments": {},
   "cell_type": "markdown",
   "metadata": {},
   "source": [
    "The extended Euclidean algorithm updates the results of gcd(a, b) using the results calculated by the recursive call gcd(b%a, a). Let values of x and y calculated by the recursive call be x1 and y1. x and y are updated using the below expression\n",
    "\n",
    "```\n",
    "ax + by = gcd(a, b)\n",
    "gcd(a, b) = gcd(b%a, a)\n",
    "gcd(b%a, a) = (b%a)x1 + ay1\n",
    "ax + by = (b%a)x1 + ay1\n",
    "ax + by = (b – [b/a] * a)x1 + ay1\n",
    "ax + by = a(y1 – [b/a] * x1) + bx1\n",
    "\n",
    "Comparing LHS and RHS,\n",
    "x = y1 – ⌊b/a⌋ * x1\n",
    " y = x1\n",
    "```"
   ]
  },
  {
   "cell_type": "code",
   "execution_count": 6,
   "metadata": {},
   "outputs": [],
   "source": [
    "def gcd_extended(a, b):\n",
    "    if (a == 0):\n",
    "        x = 0\n",
    "        y = 1\n",
    "        return (b, x, y)\n",
    "\n",
    "    gcd, x, y = gcd_extended(b % a, a)\n",
    "    x1 = x\n",
    "    y1 = y\n",
    "\n",
    "    x = y1 - (b // a) * x1\n",
    "    y = x1\n",
    "\n",
    "    return (gcd, x, y)\n",
    "\n",
    "\n",
    "def mod_inverse(A, M):\n",
    "    g, x, y = gcd_extended(A, M)\n",
    "    if (g != 1):\n",
    "        return None # inverse doesn't exist\n",
    "    else:\n",
    "        res = (x % M + M) % M\n",
    "        return res"
   ]
  },
  {
   "cell_type": "code",
   "execution_count": 7,
   "metadata": {},
   "outputs": [],
   "source": [
    "def ellipse_sum(p, q, mod=mod):\n",
    "    lt, lb = get_lambda(p, q)\n",
    "\n",
    "    gcd = gcd_extended(abs(lt), abs(lb))[0]  \n",
    "    lt, lb = lt // gcd, lb // gcd\n",
    "    if (lb < 0):\n",
    "        lt = -lt\n",
    "        lb = -lb\n",
    "\n",
    "    lbi = mod_inverse(lb, mod) # x / y == x * (y^(-1)) (mod M)\n",
    "    l = (lt * lbi) % mod\n",
    "    x1, y1 = p\n",
    "    x2, y2 = q\n",
    "    x3 = (l ** 2 - x1 - x2) % mod\n",
    "    y3 = (l * (x1 - x3) - y1) % mod\n",
    "    return (x3, y3)\n",
    "    \n",
    "    \n",
    "def ellipse_scalar_mul(k, p, mod=mod):\n",
    "    kp = p\n",
    "    for _ in range(2, k + 1):\n",
    "        kp = ellipse_sum(kp, p, mod)\n",
    "    return kp\n",
    "    \n",
    "def ellipse_minus(p, q, mod=mod):\n",
    "    q = (q[0], -q[1])\n",
    "    return ellipse_sum(p, q)"
   ]
  },
  {
   "cell_type": "code",
   "execution_count": 9,
   "metadata": {},
   "outputs": [
    {
     "name": "stdout",
     "output_type": "stream",
     "text": [
      "after decryption: [(238, 175), (234, 587), (247, 266), (228, 271), (228, 480), (240, 309), (237, 454), (236, 39), (235, 732), (238, 175)]\n"
     ]
    }
   ],
   "source": [
    "word_len = len(Cms)\n",
    "\n",
    "Zms = []\n",
    "# decrypt\n",
    "for i in range(word_len):\n",
    "    kG_, Pm_kPb_ = Cms[i][0], Cms[i][1] # Pb = nb * G\n",
    "    res_ = ellipse_minus(Pm_kPb_, ellipse_scalar_mul(ns[i], kG_))\n",
    "    Zms.append(res_)\n",
    "\n",
    "print(\"after decryption:\", Zms)\n",
    "    "
   ]
  },
  {
   "cell_type": "code",
   "execution_count": 15,
   "metadata": {},
   "outputs": [
    {
     "name": "stdout",
     "output_type": "stream",
     "text": [
      "string: метаболизм\n"
     ]
    }
   ],
   "source": [
    "def to_string(arrp):\n",
    "    ss = \"\"\n",
    "    for p in arrp:\n",
    "        s = {i for i in alphabet if alphabet[i]==p}\n",
    "        if len(s) == 0:\n",
    "            print(f\"p={p} not in dictionary\")\n",
    "        else:\n",
    "            ss += s.pop()\n",
    "    return ss\n",
    "    \n",
    "print(\"string:\", to_string(Zms))"
   ]
  }
 ],
 "metadata": {
  "kernelspec": {
   "display_name": "jupyter",
   "language": "python",
   "name": "python3"
  },
  "language_info": {
   "codemirror_mode": {
    "name": "ipython",
    "version": 3
   },
   "file_extension": ".py",
   "mimetype": "text/x-python",
   "name": "python",
   "nbconvert_exporter": "python",
   "pygments_lexer": "ipython3",
   "version": "3.11.5"
  },
  "orig_nbformat": 4
 },
 "nbformat": 4,
 "nbformat_minor": 2
}
