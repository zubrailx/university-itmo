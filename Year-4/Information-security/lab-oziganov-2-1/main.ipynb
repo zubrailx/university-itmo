{
 "cells": [
  {
   "cell_type": "code",
   "execution_count": 131,
   "metadata": {},
   "outputs": [],
   "source": [
    "N = 65815671868057\n",
    "e = 7423489\n",
    "blocks = [38932868535359]"
   ]
  },
  {
   "attachments": {},
   "cell_type": "markdown",
   "metadata": {},
   "source": [
    "Исходные данные (Вариант 12)"
   ]
  },
  {
   "cell_type": "code",
   "execution_count": 132,
   "metadata": {},
   "outputs": [],
   "source": [
    "N = 74701165267919\n",
    "e = 3145553\n",
    "blocks = [\n",
    "    32035658541536,\n",
    "    35242897170964,\n",
    "    6268303368709,\n",
    "    6877322610982,\n",
    "    16329207109754,\n",
    "    35007623593376,\n",
    "    26715311593240,\n",
    "    36220800128563,\n",
    "    25019660581036,\n",
    "    61639733671958,\n",
    "    21186453949445,\n",
    "    72477207535811\n",
    "]"
   ]
  },
  {
   "cell_type": "code",
   "execution_count": 133,
   "metadata": {},
   "outputs": [],
   "source": [
    "import math"
   ]
  },
  {
   "cell_type": "code",
   "execution_count": 134,
   "metadata": {},
   "outputs": [
    {
     "name": "stdout",
     "output_type": "stream",
     "text": [
      "8642983\n",
      "N - не квадрат\n"
     ]
    }
   ],
   "source": [
    "n = int(math.sqrt(N))\n",
    "print(n)\n",
    "\n",
    "def is_integer(D):\n",
    "    return int(D) == D\n",
    "  \n",
    "if (is_integer(N ** 0.5)):\n",
    "    print(\"N - квадрат\")\n",
    "else:\n",
    "    print(\"N - не квадрат\")"
   ]
  },
  {
   "attachments": {},
   "cell_type": "markdown",
   "metadata": {},
   "source": [
    "Возводим число t1 в квадрат и ищем подходящее число, такое что w ** 0.5 целое:"
   ]
  },
  {
   "cell_type": "code",
   "execution_count": 140,
   "metadata": {},
   "outputs": [
    {
     "name": "stdout",
     "output_type": "stream",
     "text": [
      "w=7156337 не квадрат. продолжаем поиск\n",
      "w=24442306 не квадрат. продолжаем поиск\n",
      "w=41728277 не квадрат. продолжаем поиск\n",
      "w=59014250 не квадрат. продолжаем поиск\n",
      "w=76300225 квадрат числа 8735\n"
     ]
    }
   ],
   "source": [
    "t : int\n",
    "w : int\n",
    "for i in range(1, 1000):\n",
    "    t = n + i\n",
    "    w = t ** 2 - N\n",
    "    r = w ** 0.5\n",
    "    if (is_integer(r)):\n",
    "        print(f\"w={w} квадрат числа {int(r)}\")\n",
    "        break\n",
    "    else:\n",
    "        print(f\"w={w} не квадрат. продолжаем поиск\")\n",
    "        \n",
    "t = int(t)\n",
    "w = int(w)\n",
    "        "
   ]
  },
  {
   "cell_type": "code",
   "execution_count": 136,
   "metadata": {},
   "outputs": [
    {
     "name": "stdout",
     "output_type": "stream",
     "text": [
      "8651723 8634253\n"
     ]
    }
   ],
   "source": [
    "p = t + int(w ** 0.5)\n",
    "q = t - int(w ** 0.5)\n",
    "print(p, q)"
   ]
  },
  {
   "cell_type": "code",
   "execution_count": 137,
   "metadata": {},
   "outputs": [
    {
     "data": {
      "text/plain": [
       "74701147981944"
      ]
     },
     "execution_count": 137,
     "metadata": {},
     "output_type": "execute_result"
    }
   ],
   "source": [
    "phi_n = (p - 1) * (q - 1)\n",
    "phi_n"
   ]
  },
  {
   "cell_type": "code",
   "execution_count": 138,
   "metadata": {},
   "outputs": [
    {
     "data": {
      "text/plain": [
       "23647864249265"
      ]
     },
     "execution_count": 138,
     "metadata": {},
     "output_type": "execute_result"
    }
   ],
   "source": [
    "def gcd_extended(a, b):\n",
    "    if (a == 0):\n",
    "        x = 0\n",
    "        y = 1\n",
    "        return (b, x, y)\n",
    "\n",
    "    gcd, x, y = gcd_extended(b % a, a)\n",
    "    x1 = x\n",
    "    y1 = y\n",
    "\n",
    "    x = y1 - (b // a) * x1\n",
    "    y = x1\n",
    "\n",
    "    return (gcd, x, y)\n",
    "\n",
    "\n",
    "def mod_inverse(A, M):\n",
    "    g, x, y = gcd_extended(A, M)\n",
    "    if (g != 1):\n",
    "        return None # inverse doesn't exist\n",
    "    else:\n",
    "        res = (x % M + M) % M\n",
    "        return res\n",
    "        \n",
    "d = int(mod_inverse(e, phi_n))\n",
    "d"
   ]
  },
  {
   "cell_type": "code",
   "execution_count": 139,
   "metadata": {},
   "outputs": [
    {
     "name": "stdout",
     "output_type": "stream",
     "text": [
      "32035658541536 -> 3991269360\n",
      "35242897170964 -> 3772967147\n",
      "6268303368709 -> 4243451625\n",
      "6877322610982 -> 552592880\n",
      "16329207109754 -> 3857841131\n",
      "35007623593376 -> 3941081327\n",
      "26715311593240 -> 3773490674\n",
      "36220800128563 -> 4007796781\n",
      "25019660581036 -> 552595170\n",
      "61639733671958 -> 4075745517\n",
      "21186453949445 -> 4226097391\n",
      "72477207535811 -> 3857769773\n",
      "encoded:  неправильной пересылки пакетов - повторные пере-\n"
     ]
    }
   ],
   "source": [
    "def to_string(i):\n",
    "    length = math.ceil(i.bit_length() / 8)\n",
    "    return i.to_bytes(length, byteorder='big').decode('windows-1251')\n",
    "\n",
    "blocks_decrypted = []\n",
    "\n",
    "for b in blocks:\n",
    "    bd = pow(b, d, N)\n",
    "    print(f\"{b} -> {bd}\")\n",
    "    blocks_decrypted.append(bd)\n",
    "    \n",
    "print(\"encoded: \", \"\".join([to_string(bd) for bd in blocks_decrypted]))\n"
   ]
  }
 ],
 "metadata": {
  "kernelspec": {
   "display_name": "jupyter",
   "language": "python",
   "name": "python3"
  },
  "language_info": {
   "codemirror_mode": {
    "name": "ipython",
    "version": 3
   },
   "file_extension": ".py",
   "mimetype": "text/x-python",
   "name": "python",
   "nbconvert_exporter": "python",
   "pygments_lexer": "ipython3",
   "version": "3.11.5"
  },
  "orig_nbformat": 4
 },
 "nbformat": 4,
 "nbformat_minor": 2
}
