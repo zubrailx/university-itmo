{
 "cells": [
  {
   "cell_type": "code",
   "execution_count": 1,
   "metadata": {},
   "outputs": [],
   "source": [
    "P1 = (0.0008, 0.0020, 0.0021, 0.0132, 0.0451, 0.1460, 0.2921, 0.0013, 0.0065, 0.0245, 0.0905, 0.3757)\n",
    "P2 = (0.0076, 0.0114, 0.0227, 0.0341, 0.0114, 0.0171, 0.0341, 0.0512, 0.0171, 0.0256, 0.0512, 0.0768, 0.0256, 0.0384, 0.0768, 0.1152, 0.0384, 0.0576, 0.1152, 0.1727)"
   ]
  },
  {
   "cell_type": "code",
   "execution_count": null,
   "metadata": {},
   "outputs": [],
   "source": [
    "y = "
   ]
  }
 ],
 "metadata": {
  "kernelspec": {
   "display_name": "jupyter",
   "language": "python",
   "name": "python3"
  },
  "language_info": {
   "codemirror_mode": {
    "name": "ipython",
    "version": 3
   },
   "file_extension": ".py",
   "mimetype": "text/x-python",
   "name": "python",
   "nbconvert_exporter": "python",
   "pygments_lexer": "ipython3",
   "version": "3.11.5"
  }
 },
 "nbformat": 4,
 "nbformat_minor": 2
}
